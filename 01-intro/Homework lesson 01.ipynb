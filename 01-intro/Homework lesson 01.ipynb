{
 "cells": [
  {
   "cell_type": "code",
   "execution_count": 21,
   "id": "7eb6ab2e",
   "metadata": {},
   "outputs": [],
   "source": [
    "import pandas as pd\n",
    "from sklearn.feature_extraction import DictVectorizer\n",
    "from sklearn.linear_model import LinearRegression\n",
    "from sklearn.metrics import mean_squared_error\n"
   ]
  },
  {
   "cell_type": "markdown",
   "id": "1e71da7d",
   "metadata": {},
   "source": [
    "Read the data for January. How many records are there?"
   ]
  },
  {
   "cell_type": "code",
   "execution_count": 4,
   "id": "33102fb5",
   "metadata": {},
   "outputs": [],
   "source": [
    "df_jan = pd.read_parquet('../input/fhv_tripdata_2021-01.parquet')"
   ]
  },
  {
   "cell_type": "code",
   "execution_count": 6,
   "id": "0f382eb3",
   "metadata": {},
   "outputs": [
    {
     "name": "stdout",
     "output_type": "stream",
     "text": [
      "<class 'pandas.core.frame.DataFrame'>\n",
      "RangeIndex: 1154112 entries, 0 to 1154111\n",
      "Data columns (total 7 columns):\n",
      " #   Column                  Non-Null Count    Dtype         \n",
      "---  ------                  --------------    -----         \n",
      " 0   dispatching_base_num    1154112 non-null  object        \n",
      " 1   pickup_datetime         1154112 non-null  datetime64[ns]\n",
      " 2   dropOff_datetime        1154112 non-null  datetime64[ns]\n",
      " 3   PUlocationID            195845 non-null   float64       \n",
      " 4   DOlocationID            991892 non-null   float64       \n",
      " 5   SR_Flag                 0 non-null        object        \n",
      " 6   Affiliated_base_number  1153227 non-null  object        \n",
      "dtypes: datetime64[ns](2), float64(2), object(3)\n",
      "memory usage: 61.6+ MB\n"
     ]
    }
   ],
   "source": [
    "df_jan.info()"
   ]
  },
  {
   "cell_type": "markdown",
   "id": "2f01c56b",
   "metadata": {},
   "source": [
    "What's the average trip duration in January?"
   ]
  },
  {
   "cell_type": "code",
   "execution_count": 7,
   "id": "22d7b5ce",
   "metadata": {},
   "outputs": [
    {
     "data": {
      "text/plain": [
       "19.167224093791013"
      ]
     },
     "execution_count": 7,
     "metadata": {},
     "output_type": "execute_result"
    }
   ],
   "source": [
    "(df_jan.dropOff_datetime - df_jan.pickup_datetime).dt.total_seconds().mean()/60"
   ]
  },
  {
   "cell_type": "markdown",
   "id": "e685aa3d",
   "metadata": {},
   "source": [
    "Let's remove them and keep only the records where the duration was between 1 and 60 minutes (inclusive). How many records did you drop?\n"
   ]
  },
  {
   "cell_type": "code",
   "execution_count": 8,
   "id": "279ba38f",
   "metadata": {},
   "outputs": [],
   "source": [
    "df_jan['ride_minutes'] = (df_jan.dropOff_datetime - df_jan.pickup_datetime).dt.total_seconds()/60"
   ]
  },
  {
   "cell_type": "code",
   "execution_count": 9,
   "id": "60e2b719",
   "metadata": {},
   "outputs": [],
   "source": [
    "mask_outliers = (df_jan['ride_minutes'] >= 1) & (df_jan['ride_minutes'] <= 60)"
   ]
  },
  {
   "cell_type": "code",
   "execution_count": 10,
   "id": "52437c2b",
   "metadata": {},
   "outputs": [],
   "source": [
    "df_jan = df_jan[mask_outliers] "
   ]
  },
  {
   "cell_type": "code",
   "execution_count": 11,
   "id": "3557139d",
   "metadata": {},
   "outputs": [
    {
     "data": {
      "text/plain": [
       "44286"
      ]
     },
     "execution_count": 11,
     "metadata": {},
     "output_type": "execute_result"
    }
   ],
   "source": [
    "sum(~mask_outliers)"
   ]
  },
  {
   "cell_type": "markdown",
   "id": "0a08e0ae",
   "metadata": {},
   "source": [
    "What's the fractions of missing values for the pickup location ID? I.e. fraction of \"-1\"s after you filled the NAs."
   ]
  },
  {
   "cell_type": "code",
   "execution_count": 12,
   "id": "7a982616",
   "metadata": {},
   "outputs": [],
   "source": [
    "df_jan[['PUlocationID', 'DOlocationID']] = df_jan[['PUlocationID', 'DOlocationID']].fillna(-1)"
   ]
  },
  {
   "cell_type": "code",
   "execution_count": 13,
   "id": "f20017d8",
   "metadata": {},
   "outputs": [
    {
     "data": {
      "text/plain": [
       "0.8352732770722617"
      ]
     },
     "execution_count": 13,
     "metadata": {},
     "output_type": "execute_result"
    }
   ],
   "source": [
    "sum(df_jan.PUlocationID == -1)/df_jan.PUlocationID.shape[0]"
   ]
  },
  {
   "cell_type": "markdown",
   "id": "f601cce4",
   "metadata": {},
   "source": [
    "One-hot encoding. What's the dimensionality of this matrix? (The number of columns)."
   ]
  },
  {
   "cell_type": "code",
   "execution_count": 16,
   "id": "5043c8f1",
   "metadata": {},
   "outputs": [],
   "source": [
    "df_train = df_jan.copy(deep=True)\n",
    "df_train[['PUlocationID', 'DOlocationID']] = df_train[['PUlocationID', 'DOlocationID']].astype(str)\n",
    "dv = DictVectorizer()\n",
    "X_train = dv.fit_transform(df_train[['PUlocationID', 'DOlocationID']].to_dict(orient='records'))\n",
    "y_train = df_train['ride_minutes']"
   ]
  },
  {
   "cell_type": "code",
   "execution_count": 17,
   "id": "190083b7",
   "metadata": {},
   "outputs": [
    {
     "data": {
      "text/plain": [
       "525"
      ]
     },
     "execution_count": 17,
     "metadata": {},
     "output_type": "execute_result"
    }
   ],
   "source": [
    "X_train.shape[1]"
   ]
  },
  {
   "cell_type": "markdown",
   "id": "f4938a18",
   "metadata": {},
   "source": [
    "Now let's use the feature matrix from the previous step to train a model. Train a plain linear regression model with default parameters Calculate the RMSE of the model on the training data What's the RMSE on train?"
   ]
  },
  {
   "cell_type": "code",
   "execution_count": 19,
   "id": "61059beb",
   "metadata": {},
   "outputs": [
    {
     "data": {
      "text/plain": [
       "LinearRegression()"
      ]
     },
     "execution_count": 19,
     "metadata": {},
     "output_type": "execute_result"
    }
   ],
   "source": [
    "LR = LinearRegression()\n",
    "LR.fit(X_train, y_train)"
   ]
  },
  {
   "cell_type": "markdown",
   "id": "af4d7255",
   "metadata": {},
   "source": [
    "In a Jupyter environment, please rerun this cell to show the HTML representation or trust the notebook.\n",
    "On GitHub, the HTML representation is unable to render, please try loading this page with nbviewer.org.\n"
   ]
  },
  {
   "cell_type": "markdown",
   "id": "12fa7534",
   "metadata": {},
   "source": [
    "Evaluating the model: RMSE using training setm"
   ]
  },
  {
   "cell_type": "code",
   "execution_count": 22,
   "id": "896b53c0",
   "metadata": {},
   "outputs": [
    {
     "data": {
      "text/plain": [
       "10.528519107212672"
      ]
     },
     "execution_count": 22,
     "metadata": {},
     "output_type": "execute_result"
    }
   ],
   "source": [
    "mean_squared_error(LR.predict(X_train), y_train, squared=False)"
   ]
  },
  {
   "cell_type": "markdown",
   "id": "b04453c3",
   "metadata": {},
   "source": [
    "Evaluating the model: RMSE using validation set\n",
    "\n"
   ]
  },
  {
   "cell_type": "code",
   "execution_count": 23,
   "id": "5400cab6",
   "metadata": {},
   "outputs": [],
   "source": [
    "df_feb =pd.read_parquet('../input/fhv_tripdata_2021-02.parquet')\n",
    "df_feb['ride_minutes'] = (df_feb.dropOff_datetime - df_feb.pickup_datetime).dt.total_seconds()/60\n",
    "mask_outliers = (df_feb['ride_minutes'] >= 1) & (df_feb['ride_minutes'] <= 60)\n",
    "df_feb = df_feb[mask_outliers]\n",
    "df_feb[['PUlocationID', 'DOlocationID']] = df_feb[['PUlocationID', 'DOlocationID']].fillna(-1)\n"
   ]
  },
  {
   "cell_type": "code",
   "execution_count": 24,
   "id": "084d7a64",
   "metadata": {},
   "outputs": [],
   "source": [
    "df_val = df_feb[['PUlocationID', 'DOlocationID', 'ride_minutes']].dropna()\n",
    "df_val[['PUlocationID', 'DOlocationID']] = df_val[['PUlocationID', 'DOlocationID']].astype(str)\n",
    "X_val = dv.transform(df_val[['PUlocationID', 'DOlocationID']].to_dict(orient='records'))\n",
    "y_val = df_val['ride_minutes']"
   ]
  },
  {
   "cell_type": "code",
   "execution_count": 25,
   "id": "e947ad7c",
   "metadata": {},
   "outputs": [
    {
     "data": {
      "text/plain": [
       "11.014283206926969"
      ]
     },
     "execution_count": 25,
     "metadata": {},
     "output_type": "execute_result"
    }
   ],
   "source": [
    "mean_squared_error(LR.predict(X_val), y_val, squared=False)\n"
   ]
  },
  {
   "cell_type": "code",
   "execution_count": null,
   "id": "ecd6b724",
   "metadata": {},
   "outputs": [],
   "source": []
  }
 ],
 "metadata": {
  "kernelspec": {
   "display_name": "Python 3 (ipykernel)",
   "language": "python",
   "name": "python3"
  },
  "language_info": {
   "codemirror_mode": {
    "name": "ipython",
    "version": 3
   },
   "file_extension": ".py",
   "mimetype": "text/x-python",
   "name": "python",
   "nbconvert_exporter": "python",
   "pygments_lexer": "ipython3",
   "version": "3.9.7"
  },
  "toc": {
   "base_numbering": 1,
   "nav_menu": {},
   "number_sections": true,
   "sideBar": true,
   "skip_h1_title": false,
   "title_cell": "Table of Contents",
   "title_sidebar": "Contents",
   "toc_cell": false,
   "toc_position": {},
   "toc_section_display": true,
   "toc_window_display": false
  },
  "varInspector": {
   "cols": {
    "lenName": 16,
    "lenType": 16,
    "lenVar": 40
   },
   "kernels_config": {
    "python": {
     "delete_cmd_postfix": "",
     "delete_cmd_prefix": "del ",
     "library": "var_list.py",
     "varRefreshCmd": "print(var_dic_list())"
    },
    "r": {
     "delete_cmd_postfix": ") ",
     "delete_cmd_prefix": "rm(",
     "library": "var_list.r",
     "varRefreshCmd": "cat(var_dic_list()) "
    }
   },
   "types_to_exclude": [
    "module",
    "function",
    "builtin_function_or_method",
    "instance",
    "_Feature"
   ],
   "window_display": false
  }
 },
 "nbformat": 4,
 "nbformat_minor": 5
}
